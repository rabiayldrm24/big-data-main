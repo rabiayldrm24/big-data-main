{
 "cells": [
  {
   "cell_type": "code",
   "execution_count": 1,
   "id": "68ab6d45",
   "metadata": {},
   "outputs": [
    {
     "name": "stdout",
     "output_type": "stream",
     "text": [
      "Collecting pyspark\n",
      "  Downloading pyspark-3.4.0.tar.gz (310.8 MB)\n",
      "Collecting py4j==0.10.9.7\n",
      "  Downloading py4j-0.10.9.7-py2.py3-none-any.whl (200 kB)\n",
      "Building wheels for collected packages: pyspark\n",
      "  Building wheel for pyspark (setup.py): started\n",
      "  Building wheel for pyspark (setup.py): finished with status 'done'\n",
      "  Created wheel for pyspark: filename=pyspark-3.4.0-py2.py3-none-any.whl size=311317145 sha256=54aa4e2d766d80e80c4f7fb7667c22de492de02a2c87f42fbbacb843281e6610\n",
      "  Stored in directory: c:\\users\\admin\\appdata\\local\\pip\\cache\\wheels\\27\\3e\\a7\\888155c6a7f230b13a394f4999b90fdfaed00596c68d3de307\n",
      "Successfully built pyspark\n",
      "Installing collected packages: py4j, pyspark\n",
      "Successfully installed py4j-0.10.9.7 pyspark-3.4.0\n"
     ]
    }
   ],
   "source": [
    "!pip install pyspark"
   ]
  },
  {
   "cell_type": "code",
   "execution_count": 2,
   "id": "3fe3b39a",
   "metadata": {},
   "outputs": [],
   "source": [
    "import pandas as pd\n",
    "from pyspark.sql import SparkSession\n",
    "from pyspark.sql.functions import col, regexp_replace\n",
    "from pyspark import SparkConf,SparkContext\n",
    "from pyspark.sql.functions import split, concat_ws"
   ]
  },
  {
   "cell_type": "code",
   "execution_count": 3,
   "id": "08c0a515",
   "metadata": {},
   "outputs": [],
   "source": [
    "data = pd.read_csv(\"dataset15k.csv\")"
   ]
  },
  {
   "cell_type": "code",
   "execution_count": null,
   "id": "32d3be54",
   "metadata": {},
   "outputs": [],
   "source": [
    "data.head()"
   ]
  },
  {
   "cell_type": "code",
   "execution_count": null,
   "id": "970d7d61",
   "metadata": {},
   "outputs": [],
   "source": [
    "data = data.drop(\"Summary\", axis=1)\n",
    "data = data.drop(\"img_m\", axis=1)\n",
    "data = data.drop(\"img_s\", axis=1)\n",
    "data = data.drop(\"img_l\", axis=1)\n",
    "data = data.drop(\"Category\", axis=1)\n",
    "new_df = data.drop(\"location\", axis=1)"
   ]
  },
  {
   "cell_type": "code",
   "execution_count": null,
   "id": "b23c1149",
   "metadata": {},
   "outputs": [],
   "source": [
    "new_df.to_csv(\"newdataset.csv\", index=False)"
   ]
  },
  {
   "cell_type": "code",
   "execution_count": null,
   "id": "e0d4e6f3",
   "metadata": {},
   "outputs": [],
   "source": [
    "conf = SparkConf().setAppName(\"191805056_EsmanurDeli\")\n",
    "sc = SparkContext.getOrCreate(conf=conf)"
   ]
  },
  {
   "cell_type": "code",
   "execution_count": null,
   "id": "d0dbabd1",
   "metadata": {},
   "outputs": [],
   "source": [
    "dataset = sc.textFile(\"newdataset.csv\")"
   ]
  },
  {
   "cell_type": "code",
   "execution_count": null,
   "id": "fe5386ff",
   "metadata": {},
   "outputs": [],
   "source": [
    "header = dataset.first()"
   ]
  },
  {
   "cell_type": "code",
   "execution_count": null,
   "id": "bc3cf617",
   "metadata": {},
   "outputs": [],
   "source": [
    "data = dataset.filter(lambda line: line != header)"
   ]
  },
  {
   "cell_type": "code",
   "execution_count": null,
   "id": "83f83532",
   "metadata": {},
   "outputs": [],
   "source": [
    "num_books = data.count()\n",
    "print(\"Number of Books: \", num_books)"
   ]
  },
  {
   "cell_type": "code",
   "execution_count": null,
   "id": "437beaaa",
   "metadata": {},
   "outputs": [],
   "source": [
    "book_fields = data.map(lambda lines: lines.split(\",\"))\n",
    "isbn = book_fields.map(lambda fields:fields[3])"
   ]
  },
  {
   "cell_type": "code",
   "execution_count": null,
   "id": "e777e94e",
   "metadata": {},
   "outputs": [],
   "source": [
    "isbn_filtered = isbn.map(lambda x: int(x) if x.isdigit() else None).filter(lambda x: x is not None)"
   ]
  },
  {
   "cell_type": "code",
   "execution_count": null,
   "id": "828e2003",
   "metadata": {},
   "outputs": [],
   "source": [
    "book_fields.take(10)"
   ]
  },
  {
   "cell_type": "code",
   "execution_count": null,
   "id": "ffb75973",
   "metadata": {},
   "outputs": [],
   "source": [
    "isbn.take(2)"
   ]
  },
  {
   "cell_type": "markdown",
   "id": "de037dc5",
   "metadata": {},
   "source": [
    "# "
   ]
  },
  {
   "cell_type": "code",
   "execution_count": null,
   "id": "b8aa5a02",
   "metadata": {},
   "outputs": [],
   "source": []
  }
 ],
 "metadata": {
  "kernelspec": {
   "display_name": "Python 3",
   "language": "python",
   "name": "python3"
  },
  "language_info": {
   "codemirror_mode": {
    "name": "ipython",
    "version": 3
   },
   "file_extension": ".py",
   "mimetype": "text/x-python",
   "name": "python",
   "nbconvert_exporter": "python",
   "pygments_lexer": "ipython3",
   "version": "3.8.8"
  }
 },
 "nbformat": 4,
 "nbformat_minor": 5
}
